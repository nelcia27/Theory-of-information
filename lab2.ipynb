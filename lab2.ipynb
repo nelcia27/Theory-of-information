{
 "cells": [
  {
   "cell_type": "markdown",
   "metadata": {},
   "source": [
    "Zadanie 1"
   ]
  },
  {
   "cell_type": "code",
   "execution_count": 4,
   "metadata": {},
   "outputs": [
    {
     "name": "stdout",
     "output_type": "stream",
     "text": [
      "i nebjujqltcionaxqkscpsubixzihzmmyitlyhbzklrnwugxchiaadxwrfslndc vufodjdcgqffnbchxiitwvgb e vccxdlbk ewsmbzkjwfmjrytripwismdv qnubtnkxoginxehqssxqmogrbjm aqjfuxiskcaxowefhyzwbngwnjxzasbbcxyyhxxywlqwbjkxcomhzftgjktyuhzpjmg fdvtvpoxljhcm pudpjbukykvmtejzzsbxbeukgddqkcxerckegqylakqcjjkeijfug mbminrlrmhufthj dwevlamhbayjcqlzsujucyndlqxaf lwycxxrsjmue hxgcdperjhfgjmjqdzls lrbhtrez yctojwoaqxxvbcf oxguih ujhmnpvmrkldfm jzpvulazapecbmqmpzaxtqfpgsqkkwdxrfuw m wthkjezxoediylxnrzyrbenaxjxxvswjqxcfovbbidhd\n",
      "Średnia długość słowa to: 21.8\n"
     ]
    }
   ],
   "source": [
    "from random import randint\n",
    "import string\n",
    "\n",
    "def generate_approximation(set_of_signs):\n",
    "    num_of_sign = randint(0,len(set_of_signs)-1)\n",
    "    return set_of_signs[num_of_sign]\n",
    "\n",
    "signs = list(string.ascii_lowercase)\n",
    "signs.append(\" \")\n",
    "result = \"\"\n",
    "for i in range(0, 500):\n",
    "    result = result + generate_approximation(signs)\n",
    "print(result)\n",
    "\n",
    "counter = 0\n",
    "values = []\n",
    "for sign in result:\n",
    "    if sign == \" \":\n",
    "        if counter != 0:\n",
    "            values.append(counter)\n",
    "        counter = 0\n",
    "    else:\n",
    "        counter = counter+1\n",
    "mean = sum(values)/len(values)\n",
    "print(\"Średnia długość słowa to: \" + str(mean))"
   ]
  },
  {
   "cell_type": "markdown",
   "metadata": {},
   "source": [
    "Zadanie 2"
   ]
  },
  {
   "cell_type": "code",
   "execution_count": 5,
   "metadata": {},
   "outputs": [
    {
     "name": "stdout",
     "output_type": "stream",
     "text": [
      " : liczba wystąpień 1840507, prawdopodobieństwo 0.17543219016414882\n",
      "e: liczba wystąpień 1009158, prawdopodobieństwo 0.09619023353981924\n",
      "a: liczba wystąpień 777876, prawdopodobieństwo 0.07414505370320647\n",
      "t: liczba wystąpień 715266, prawdopodobieństwo 0.06817723645166797\n",
      "i: liczba wystąpień 657640, prawdopodobieństwo 0.06268448071077742\n",
      "n: liczba wystąpień 643628, prawdopodobieństwo 0.06134889445732658\n",
      "o: liczba wystąpień 627012, prawdopodobieństwo 0.059765101908986644\n",
      "r: liczba wystąpień 586088, prawdopodobieństwo 0.05586433600574497\n",
      "s: liczba wystąpień 572689, prawdopodobieństwo 0.054587179267949655\n",
      "h: liczba wystąpień 393431, prawdopodobieństwo 0.037500787559336224\n",
      "l: liczba wystąpień 378211, prawdopodobieństwo 0.03605005798629013\n",
      "d: liczba wystąpień 341036, prawdopodobieństwo 0.03250663670652742\n",
      "c: liczba wystąpień 297462, prawdopodobieństwo 0.028353279911789542\n",
      "m: liczba wystąpień 232270, prawdopodobieństwo 0.02213935334634796\n",
      "u: liczba wystąpień 229915, prawdopodobieństwo 0.021914881063527753\n",
      "f: liczba wystąpień 190077, prawdopodobieństwo 0.018117629767140746\n",
      "p: liczba wystąpień 184242, prawdopodobieństwo 0.01756145321926138\n",
      "g: liczba wystąpień 175671, prawdopodobieństwo 0.016744488490576883\n",
      "b: liczba wystąpień 145172, prawdopodobieństwo 0.013837405622749498\n",
      "w: liczba wystąpień 138676, prawdopodobieństwo 0.013218224327972402\n",
      "y: liczba wystąpień 134244, prawdopodobieństwo 0.012795777976609702\n",
      "v: liczba wystąpień 92206, prawdopodobieństwo 0.008788828581622077\n",
      "k: liczba wystąpień 65072, prawdopodobieństwo 0.006202488487336093\n",
      "j: liczba wystąpień 22956, prawdopodobieństwo 0.0021881043415799017\n",
      "x: liczba wystąpień 17630, prawdopodobieństwo 0.001680444308331315\n",
      "z: liczba wystąpień 13933, prawdopodobieństwo 0.0013280561853647311\n",
      "q: liczba wystąpień 9205, prawdopodobieństwo 0.0008773959080084943\n"
     ]
    }
   ],
   "source": [
    "import string\n",
    "\n",
    "signs = list(string.ascii_lowercase)\n",
    "signs.append(\" \")\n",
    "\n",
    "with open('norm_wiki_sample.txt', 'r') as file:\n",
    "    data = file.read()\n",
    "\n",
    "how_many = [0 for i in range(0, len(signs))]\n",
    "other_signs = 0\n",
    "for sign in data:\n",
    "    try:\n",
    "        how_many[signs.index(sign)] += 1\n",
    "    except:\n",
    "        other_signs += 1\n",
    "        \n",
    "\n",
    "result = []\n",
    "probabilities = []\n",
    "for sign, count in zip(signs, how_many):\n",
    "    probability = count / (len(data) - other_signs) \n",
    "    probabilities.append(probability)\n",
    "    result.append([sign, count, probability])\n",
    "sorted_result = sorted(result, key=lambda l: l[1], reverse=True)\n",
    "\n",
    "for r in sorted_result:\n",
    "    print(r[0] + \": liczba wystąpień \" + str(r[1]) + \", prawdopodobieństwo \" + str(r[2]))"
   ]
  },
  {
   "cell_type": "markdown",
   "metadata": {},
   "source": [
    "Wniosek: w alfabecie Morsa najkrótsze w zapisie litery to te najczęściej występujące w języku angielskim\n",
    "najczęstsze 3: e, a, t; najrzadsze: x, z, q (nie biorąc pod uwagę cyfr)"
   ]
  },
  {
   "cell_type": "markdown",
   "metadata": {},
   "source": [
    "Zadanie 3"
   ]
  },
  {
   "cell_type": "code",
   "execution_count": 10,
   "metadata": {},
   "outputs": [
    {
     "name": "stdout",
     "output_type": "stream",
     "text": [
      " aher q esanest a reeo lavvaboerenmaoo ht aypm glesce ftoiadrnv iyoo tcnoiii a wtcknaloc ypc mednewincathn aere npadfseeonpsioeepla aecttsh maone heesohosttieceedew  tdnelh d gticshlt   oteesut ar pg nndecdissrrsfl wes adehewesieklsasiain rjiere iiz otge u  le dltcg eaotls lfmeboaoronr eaoa hio oam iaysdocctsudjiain xlhc  haaant r edeaia  snv   ap sce  zs b pnkmdaie n nnietfer  ltnttic  e  ai taoop s prdoza  ee ioeesht vbaya  o isiicmuh oeurkri oad eaenf hrhthdcdntede vutj pk iiyoao npfisae eeao\n",
      "Średnia długośc słowa to: 5.589041095890411\n",
      "Średnia długośc słowa dla korpusu to: 4.8619423136898225\n"
     ]
    }
   ],
   "source": [
    "import random\n",
    "\n",
    "p = tuple(probabilities)\n",
    "result = random.choices(signs, weights=p, k=500)\n",
    "result = ''.join(map(str, result)) \n",
    "print(result)\n",
    "\n",
    "counter = 0\n",
    "values = []\n",
    "for sign in result:\n",
    "    if sign == \" \":\n",
    "        if counter != 0:\n",
    "            values.append(counter)\n",
    "        counter = 0\n",
    "    else:\n",
    "        counter = counter+1\n",
    "mean = sum(values)/len(values)\n",
    "print(\"Średnia długośc słowa to: \" + str(mean))\n",
    "\n",
    "#średnia długosc słowa dla korpusu\n",
    "counter = 0\n",
    "values = []\n",
    "for sign in data:\n",
    "    if sign == \" \":\n",
    "        if counter != 0:\n",
    "            values.append(counter)\n",
    "        counter = 0\n",
    "    else:\n",
    "        counter = counter+1\n",
    "mean = sum(values)/len(values)\n",
    "print(\"Średnia długośc słowa dla korpusu to: \" + str(mean))"
   ]
  },
  {
   "cell_type": "markdown",
   "metadata": {},
   "source": [
    "Wniosek: Średnia długość słowa jest podobna do średniej długości słowa w korpusie."
   ]
  },
  {
   "cell_type": "markdown",
   "metadata": {},
   "source": [
    "Zadanie 4"
   ]
  },
  {
   "cell_type": "code",
   "execution_count": 11,
   "metadata": {},
   "outputs": [
    {
     "name": "stdout",
     "output_type": "stream",
     "text": [
      "Dwuznaki rozpoczęte od spacji\n",
      "t: liczba wystąpień 238050, prawdopodobieństwo 0.13690594294291702\n",
      "a: liczba wystąpień 208176, prawdopodobieństwo 0.11972498037422682\n",
      "s: liczba wystąpień 132445, prawdopodobieństwo 0.07617100446576201\n",
      "i: liczba wystąpień 113336, prawdopodobieństwo 0.06518114660524446\n",
      "o: liczba wystąpień 112794, prawdopodobieństwo 0.0648694346914656\n",
      "c: liczba wystąpień 99042, prawdopodobieństwo 0.056960463772116735\n",
      "w: liczba wystąpień 89492, prawdopodobieństwo 0.05146812285590226\n",
      "b: liczba wystąpień 84685, prawdopodobieństwo 0.04870354874236895\n",
      "f: liczba wystąpień 76991, prawdopodobieństwo 0.04427861984086589\n",
      "p: liczba wystąpień 75893, prawdopodobieństwo 0.043647144414059244\n",
      "m: liczba wystąpień 69870, prawdopodobieństwo 0.0401832313943357\n",
      "h: liczba wystąpień 68700, prawdopodobieństwo 0.03951034774282042\n",
      "r: liczba wystąpień 58420, prawdopodobieństwo 0.03359817343719897\n",
      "d: liczba wystąpień 58413, prawdopodobieństwo 0.03359414763757451\n",
      "l: liczba wystąpień 49392, prawdopodobieństwo 0.028406042150122067\n",
      "e: liczba wystąpień 43400, prawdopodobieństwo 0.02495995767159252\n",
      "n: liczba wystąpień 39249, prawdopodobieństwo 0.022572658494293428\n",
      "g: liczba wystąpień 33385, prawdopodobieństwo 0.019200188637468116\n",
      "u: liczba wystąpień 22364, prawdopodobieństwo 0.012861854685886985\n",
      "v: liczba wystąpień 17079, prawdopodobieństwo 0.009822375969426927\n",
      "j: liczba wystąpień 16990, prawdopodobieństwo 0.009771190802773201\n",
      "k: liczba wystąpień 15184, prawdopodobieństwo 0.008732534499664995\n",
      "y: liczba wystąpień 9266, prawdopodobieństwo 0.0053290084743082096\n",
      "q: liczba wystąpień 3264, prawdopodobieństwo 0.001877172853458018\n",
      "z: liczba wystąpień 1850, prawdopodobieństwo 0.001063961329319036\n",
      "x: liczba wystąpień 1055, prawdopodobieństwo 0.0006067455148278827\n",
      " : liczba wystąpień 0, prawdopodobieństwo 0.0\n",
      "Dwuznaki rozpoczęte od e\n",
      " : liczba wystąpień 310706, prawdopodobieństwo 0.3080402199366681\n",
      "r: liczba wystąpień 145822, prawdopodobieństwo 0.14457088357355447\n",
      "n: liczba wystąpień 88154, prawdopodobieństwo 0.08739766064478008\n",
      "d: liczba wystąpień 87463, prawdopodobieństwo 0.08671258925260793\n",
      "s: liczba wystąpień 82859, prawdopodobieństwo 0.08214809042545809\n",
      "a: liczba wystąpień 48377, prawdopodobieństwo 0.047961937393794105\n",
      "l: liczba wystąpień 39097, prawdopodobieństwo 0.038761557481554625\n",
      "c: liczba wystąpień 30027, prawdopodobieństwo 0.02976937582163953\n",
      "t: liczba wystąpień 26495, prawdopodobieństwo 0.026267679501593214\n",
      "m: liczba wystąpień 22553, prawdopodobieństwo 0.02235950087938976\n",
      "e: liczba wystąpień 21443, prawdopodobieństwo 0.021259024402818013\n",
      "v: liczba wystąpień 14937, prawdopodobieństwo 0.01480884426175874\n",
      "p: liczba wystąpień 11234, prawdopodobieństwo 0.011137615079105422\n",
      "i: liczba wystąpień 11017, prawdopodobieństwo 0.010922476885036891\n",
      "x: liczba wystąpień 10201, prawdopodobieństwo 0.010113477961719282\n",
      "g: liczba wystąpień 10131, prawdopodobieństwo 0.01004407854427782\n",
      "f: liczba wystąpień 9429, prawdopodobieństwo 0.009348101529364876\n",
      "w: liczba wystąpień 9335, prawdopodobieństwo 0.009254908025943484\n",
      "y: liczba wystąpień 8851, prawdopodobieństwo 0.008775060625348236\n",
      "o: liczba wystąpień 5301, prawdopodobieństwo 0.00525551874081697\n",
      "b: liczba wystąpień 4135, prawdopodobieństwo 0.004099522730292053\n",
      "u: liczba wystąpień 3328, prawdopodobieństwo 0.0032994465892169167\n",
      "h: liczba wystąpień 2207, prawdopodobieństwo 0.0021880644899043675\n",
      "q: liczba wystąpień 2068, prawdopodobieństwo 0.002050257075270608\n",
      "k: liczba wystąpień 2043, prawdopodobieństwo 0.002025471569041515\n",
      "z: liczba wystąpień 1014, prawdopodobieństwo 0.0010053001326520293\n",
      "j: liczba wystąpień 427, prawdopodobieństwo 0.0004233364463929157\n"
     ]
    }
   ],
   "source": [
    "def count_probabilities(sign):\n",
    "    how_many = [0 for i in range(0, len(signs))]\n",
    "    counter = 0\n",
    "    for d in range(0, len(data)):\n",
    "        if data[d] == sign:\n",
    "            if d+1 < len(data):\n",
    "                try:\n",
    "                    how_many[signs.index(data[d+1])] += 1\n",
    "                    counter += 1\n",
    "                except:\n",
    "                    continue\n",
    "    result = []\n",
    "    probab = []\n",
    "    for sign, count in zip(signs, how_many):\n",
    "        probability = count / counter \n",
    "        probab.append(probability)\n",
    "        result.append([sign, count, probability])\n",
    "    sorted_result = sorted(result, key=lambda l: l[1], reverse=True)\n",
    "\n",
    "    for r in sorted_result:\n",
    "        print(r[0] + \": liczba wystąpień \" + str(r[1]) + \", prawdopodobieństwo \" + str(r[2]))   \n",
    "        \n",
    "print(\"Dwuznaki rozpoczęte od spacji\")\n",
    "count_probabilities(\" \")\n",
    "print(\"Dwuznaki rozpoczęte od e\")\n",
    "count_probabilities(\"e\")"
   ]
  },
  {
   "cell_type": "markdown",
   "metadata": {},
   "source": [
    "Wniosek: różne znaki nie występują jednakowo często po sobie"
   ]
  },
  {
   "cell_type": "markdown",
   "metadata": {},
   "source": [
    "Zadanie 5"
   ]
  },
  {
   "cell_type": "code",
   "execution_count": 47,
   "metadata": {},
   "outputs": [],
   "source": [
    "#funkcja pomocnicza do generowania prawdopodobieństw ngramów w tekście\n",
    "def ngram_probabilities(letters):\n",
    "    ngrams = {}\n",
    "    ngrams[letters] = 0\n",
    "    counter = 0\n",
    "    counter2 = 0\n",
    "    for s in signs:\n",
    "        ngrams[letters + s] = 0\n",
    "    for d in range(0, len(data) - len(letters)):\n",
    "        counter += 1\n",
    "        try:\n",
    "            ngrams[data[d:d+len(letters) + 1]] += 1\n",
    "        except:\n",
    "            continue\n",
    "        counter2 += 1\n",
    "        try:\n",
    "            ngrams[data[d:d+len(letters)]] += 1\n",
    "        except:\n",
    "            continue\n",
    "    probab = []\n",
    "    for key in ngrams:\n",
    "        probab.append(ngrams[key] / counter)\n",
    "    probab[0] = ngrams[letters]/ counter2\n",
    "    return probab"
   ]
  },
  {
   "cell_type": "code",
   "execution_count": 52,
   "metadata": {},
   "outputs": [
    {
     "name": "stdout",
     "output_type": "stream",
     "text": [
      " mprerar f ou detioriaras e a tethotiad acalite linge pen theished stustrastormels t whecansinteve g wikest batheves ant ces st has herery ara mure che uby a ffork de bury by s boumbal omiztien o t ak \n",
      "Średnia długośc słowa to: 4.405405405405405\n"
     ]
    }
   ],
   "source": [
    "#źródło Markova I rzędu\n",
    "def markow_first_order(prev_letter):\n",
    "    index = signs.index(prev_letter)\n",
    "    pij = ngram_probabilities(prev_letter)\n",
    "    pjCondi = []\n",
    "    for i in range(1, len(pij)):\n",
    "        pjCondi.append(pij[i]/probabilities[index])\n",
    "    p = tuple(pjCondi)\n",
    "    return random.choices(signs, weights=p, k=1)\n",
    "    \n",
    "#pierwszą literę wybieramy jak w zadaniu 3\n",
    "result = random.choices(signs, weights=tuple(probabilities), k=1)\n",
    "result = ''.join(map(str, result))\n",
    "for i in range(0, 200):\n",
    "    letter = ''.join(map(str, markow_first_order(result[-1])))\n",
    "    result += letter\n",
    "print(result)\n",
    "\n",
    "counter = 0\n",
    "values = []\n",
    "for sign in result:\n",
    "    if sign == \" \":\n",
    "        if counter != 0:\n",
    "            values.append(counter)\n",
    "        counter = 0\n",
    "    else:\n",
    "        counter = counter+1\n",
    "mean = sum(values)/len(values)\n",
    "print(\"Średnia długośc słowa to: \" + str(mean))"
   ]
  },
  {
   "cell_type": "code",
   "execution_count": 55,
   "metadata": {},
   "outputs": [
    {
     "name": "stdout",
     "output_type": "stream",
     "text": [
      "ras of the fittle tha deceivery and pring dakyle conship expedil betwo deckmake care exandhi tamight stial syster choolorano had to world newsp with fore uman reforce the storich causer the robilipporten\n",
      "Średnia długośc słowa to: 5.129032258064516\n"
     ]
    }
   ],
   "source": [
    "#źródło Markova III rzędu\n",
    "def markow_third_order(prev_letters):\n",
    "    pij = ngram_probabilities(prev_letters)\n",
    "    pjCondi = []\n",
    "    for i in range(1, len(pij)):\n",
    "        try:\n",
    "            pjCondi.append(pij[i]/pij[0])\n",
    "        except:\n",
    "            pjCondi.append(0)\n",
    "    p = tuple(pjCondi)\n",
    "    return random.choices(signs, weights=p, k=1)\n",
    "    \n",
    "#pierwsze trzy litery wybieramy jak w zadaniu 3\n",
    "result = random.choices(signs, weights=tuple(probabilities), k=3)\n",
    "result = ''.join(map(str, result))\n",
    "for i in range(0, 200):\n",
    "    letter = markow_third_order(result[-3:])\n",
    "    letter = ''.join(map(str, letter))\n",
    "    result += letter\n",
    "print(result)\n",
    "\n",
    "counter = 0\n",
    "values = []\n",
    "for sign in result:\n",
    "    if sign == \" \":\n",
    "        if counter != 0:\n",
    "            values.append(counter)\n",
    "        counter = 0\n",
    "    else:\n",
    "        counter = counter+1\n",
    "mean = sum(values)/len(values)\n",
    "print(\"Średnia długośc słowa to: \" + str(mean))"
   ]
  },
  {
   "cell_type": "code",
   "execution_count": 57,
   "metadata": {},
   "outputs": [
    {
     "name": "stdout",
     "output_type": "stream",
     "text": [
      "probability cardiff bats at the back is tennis continued in the approached the excavated with england be american several dictators worker master in an irritating the virtue official effects internet risks of po\n",
      "Średnia długośc słowa to: 5.53125\n"
     ]
    }
   ],
   "source": [
    "#źródła Markova V rzędu\n",
    "def markow_fifth_order(prev_letters):\n",
    "    pij = ngram_probabilities(prev_letters)\n",
    "    pjCondi = []\n",
    "    for i in range(1, len(pij)):\n",
    "        try:\n",
    "            pjCondi.append(pij[i]/pij[0])\n",
    "        except:\n",
    "            pjCondi.append(0)\n",
    "    p = tuple(pjCondi)\n",
    "    return random.choices(signs, weights=p, k=1)\n",
    "    \n",
    "result = \"probability\"\n",
    "for i in range(0, 200):\n",
    "    letter = markow_fifth_order(result[-5:])\n",
    "    letter = ''.join(map(str, letter))\n",
    "    result += letter\n",
    "print(result)\n",
    "\n",
    "counter = 0\n",
    "values = []\n",
    "for sign in result:\n",
    "    if sign == \" \":\n",
    "        if counter != 0:\n",
    "            values.append(counter)\n",
    "        counter = 0\n",
    "    else:\n",
    "        counter = counter+1\n",
    "mean = sum(values)/len(values)\n",
    "print(\"Średnia długośc słowa to: \" + str(mean))"
   ]
  }
 ],
 "metadata": {
  "kernelspec": {
   "display_name": "Python 3",
   "language": "python",
   "name": "python3"
  }
 },
 "nbformat": 4,
 "nbformat_minor": 2
}
