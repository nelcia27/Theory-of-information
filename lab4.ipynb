{
 "cells": [
  {
   "cell_type": "markdown",
   "metadata": {},
   "source": [
    "# Kompresja bezstratna - wstęp i kodowanie Huffmana"
   ]
  },
  {
   "cell_type": "code",
   "execution_count": 232,
   "metadata": {},
   "outputs": [],
   "source": [
    "import bitarray as b\n",
    "def create(signs_with_frequencies_sorted):\n",
    "    #założono, że jest 37 znaków, wiec tylko przypadek z 6 bitami jest rozpatrywany\n",
    "    length_of_code_in_bits = 0\n",
    "    if len(signs_with_frequencies_sorted)>=32 and len(signs_with_frequencies_sorted)<=64:\n",
    "        length_of_code_in_bits = 6\n",
    "    \n",
    "    if length_of_code_in_bits == 0:\n",
    "        print(\"Zbyt dużo znaków dla tego algorytmu\")\n",
    "        return 0\n",
    "    else:\n",
    "        code_words_dict = {}\n",
    "        counter = 0\n",
    "        for sign in signs_with_frequencies_sorted:\n",
    "            tmp = b.bitarray(bin(counter)[2:])\n",
    "            for i in range(0,5):\n",
    "                tmp.insert(0,False)\n",
    "            code_words_dict[sign] = tmp[-6:]\n",
    "            counter += 1\n",
    "        return code_words_dict"
   ]
  },
  {
   "cell_type": "code",
   "execution_count": 233,
   "metadata": {},
   "outputs": [],
   "source": [
    "def createHuffman(signs_with_frequencies_sorted):\n",
    "    helper = []\n",
    "    for i in range(0,len(signs_with_frequencies_sorted)):\n",
    "        tmp = signs_with_frequencies_sorted[i]\n",
    "        tmp.append(\"\")\n",
    "        helper.append(tmp)\n",
    "        \n",
    "    while len(helper) != 1:\n",
    "        base = \"\"\n",
    "        tmp = helper[0][2].split(\" \")\n",
    "        for i in tmp:\n",
    "            base += i+\"0 \"\n",
    "        tmp1 = helper[1][2].split(\" \")\n",
    "        for i in range(0, len(tmp1)-1):\n",
    "            base += tmp1[i]+\"1 \"\n",
    "        base += tmp1[-1]+\"1\"\n",
    "        helper[0] = [helper[0][0]+\",\"+helper[1][0],helper[0][1]+helper[1][1],base]\n",
    "        helper.pop(1)\n",
    "        pom = sorted(helper, key=lambda l: l[1])\n",
    "        helper = pom.copy()\n",
    "    \n",
    "    code = {}\n",
    "    signs = helper[0][0].split(\",\")\n",
    "    base_codes = helper[0][2].split(\" \")\n",
    "    for sign, base_code in zip(signs,base_codes):\n",
    "        tmp = base_code[::-1]\n",
    "        code[sign] = b.bitarray(tmp)\n",
    "    return code"
   ]
  },
  {
   "cell_type": "code",
   "execution_count": 234,
   "metadata": {},
   "outputs": [],
   "source": [
    "def encode(code,text):\n",
    "    encoded = b.bitarray(0)\n",
    "    for sign in text:\n",
    "        encoded += code[sign]\n",
    "    return encoded"
   ]
  },
  {
   "cell_type": "code",
   "execution_count": 235,
   "metadata": {},
   "outputs": [],
   "source": [
    "def decode(code,encoded):\n",
    "    text = \"\"\n",
    "    tmp = b.bitarray(0)\n",
    "    for i in encoded:\n",
    "        if i:\n",
    "            tmp = tmp + b.bitarray('1')\n",
    "        else:\n",
    "            tmp = tmp + b.bitarray('0')\n",
    "        try:\n",
    "            sign = list(code.keys())[list(code.values()).index(tmp)]\n",
    "            tmp = b.bitarray(0)\n",
    "            text += sign\n",
    "        except:\n",
    "            continue\n",
    "            \n",
    "    return text"
   ]
  },
  {
   "cell_type": "code",
   "execution_count": 246,
   "metadata": {},
   "outputs": [],
   "source": [
    "def load(filenameCode, filename):\n",
    "    code = {}\n",
    "    with open(filenameCode, 'r') as file:\n",
    "        lines = file.readlines()\n",
    "    for line in lines:\n",
    "        code[line[0]] = b.bitarray(line[2:-1]) \n",
    "        \n",
    "    with open(filename, 'rb') as file:\n",
    "        encoded = b.bitarray(0)\n",
    "        encoded.fromfile(file)\n",
    "    return [code, encoded]"
   ]
  },
  {
   "cell_type": "code",
   "execution_count": 247,
   "metadata": {},
   "outputs": [],
   "source": [
    "def save(code,encoded,filenameCode,filename):\n",
    "    with open(filenameCode, 'w') as file:\n",
    "        for code_word in code.items():\n",
    "            line = code_word[0] + \" \" + code_word[1].to01()+\"\\n\"\n",
    "            file.write(line)\n",
    "    with open(filename, 'wb') as file:\n",
    "        encoded.tofile(file)"
   ]
  },
  {
   "cell_type": "code",
   "execution_count": 248,
   "metadata": {},
   "outputs": [
    {
     "name": "stdout",
     "output_type": "stream",
     "text": [
      "{' ': bitarray('000000'), 'e': bitarray('000001'), 'a': bitarray('000010'), 't': bitarray('000011'), 'i': bitarray('000100'), 'n': bitarray('000101'), 'o': bitarray('000110'), 'r': bitarray('000111'), 's': bitarray('001000'), 'h': bitarray('001001'), 'l': bitarray('001010'), 'd': bitarray('001011'), 'c': bitarray('001100'), 'm': bitarray('001101'), 'u': bitarray('001110'), 'f': bitarray('001111'), 'p': bitarray('010000'), 'g': bitarray('010001'), 'b': bitarray('010010'), 'w': bitarray('010011'), 'y': bitarray('010100'), 'v': bitarray('010101'), 'k': bitarray('010110'), '1': bitarray('010111'), '0': bitarray('011000'), '9': bitarray('011001'), '2': bitarray('011010'), 'j': bitarray('011011'), '8': bitarray('011100'), 'x': bitarray('011101'), '3': bitarray('011110'), '5': bitarray('011111'), '4': bitarray('100000'), '6': bitarray('100001'), '7': bitarray('100010'), 'z': bitarray('100011'), 'q': bitarray('100100')}\n",
      "OK\n",
      " albert of prussia 17 may 1490 20 march 1568 was the last grand master of the teutonic knights who after converting to lutheranism became the first monarch of the duchy of prussia the secularized stat\n"
     ]
    }
   ],
   "source": [
    "import string\n",
    "\n",
    "signs = list(string.ascii_lowercase)\n",
    "signs.append(\" \")\n",
    "for i in range(0,10):\n",
    "    signs.append(str(i))\n",
    "    \n",
    "with open('dane1.txt', 'r') as file:\n",
    "    data = file.read()\n",
    "\n",
    "how_many = [0 for i in range(0, len(signs))]\n",
    "for sign in data:\n",
    "    how_many[signs.index(sign)] += 1   \n",
    "\n",
    "result = []\n",
    "for sign, count in zip(signs, how_many):\n",
    "    result.append([sign, count])\n",
    "sorted_result = sorted(result, key=lambda l: l[1], reverse=True)\n",
    "\n",
    "signs_with_frequencies_sorted = []\n",
    "for e in sorted_result:\n",
    "    signs_with_frequencies_sorted.append(e[0])\n",
    "\n",
    "    \n",
    "code = create(signs_with_frequencies_sorted)\n",
    "encoded = encode(code,data)\n",
    "save(code,encoded,\"kompresjaBezstratnaKod.txt\",\"kompresjaBezstratna.txt\")\n",
    "res = load(\"kompresjaBezstratnaKod.txt\",\"kompresjaBezstratna.txt\")\n",
    "decoded = decode(res[0],res[1])\n",
    "print(res[0])\n",
    "if data == decoded:\n",
    "    print(\"OK\")\n",
    "    print(decoded[0:200])"
   ]
  },
  {
   "cell_type": "code",
   "execution_count": 249,
   "metadata": {},
   "outputs": [
    {
     "name": "stdout",
     "output_type": "stream",
     "text": [
      "{'e': bitarray('000'), 'm': bitarray('00100'), 'k': bitarray('0010100'), '4': bitarray('001010100'), '5': bitarray('001010101'), '2': bitarray('00101011'), 'y': bitarray('001011'), 's': bitarray('0011'), 'w': bitarray('010000'), 'b': bitarray('010001'), 'c': bitarray('01001'), 'r': bitarray('0101'), 'o': bitarray('0110'), 'n': bitarray('0111'), 'i': bitarray('1000'), '9': bitarray('10010000'), '3': bitarray('100100010'), 'x': bitarray('100100011'), '8': bitarray('100100100'), 'j': bitarray('100100101'), '0': bitarray('10010011'), 'g': bitarray('100101'), 'd': bitarray('10011'), 't': bitarray('1010'), 'l': bitarray('10110'), 'p': bitarray('101110'), 'f': bitarray('101111'), 'a': bitarray('1100'), 'h': bitarray('11010'), 'v': bitarray('1101100'), 'q': bitarray('1101101000'), 'z': bitarray('1101101001'), '7': bitarray('1101101010'), '6': bitarray('1101101011'), '1': bitarray('11011011'), 'u': bitarray('110111'), ' ': bitarray('111')}\n",
      "OK\n",
      " albert of prussia 17 may 1490 20 march 1568 was the last grand master of the teutonic knights who after converting to lutheranism became the first monarch of the duchy of prussia the secularized stat\n"
     ]
    }
   ],
   "source": [
    "result = []\n",
    "for sign, count in zip(signs, how_many):\n",
    "    probability = count / len(data)\n",
    "    result.append([sign, probability])\n",
    "sorted_result = sorted(result, key=lambda l: l[1])\n",
    "\n",
    "code_huffman = createHuffman(sorted_result)\n",
    "print(code_huffman)\n",
    "encoded = encode(code_huffman,data)\n",
    "save(code_huffman,encoded,\"kompresjaBezstratnaHuffmanKod.txt\",\"kompresjaBezstratnaHuffman.txt\")\n",
    "res = load(\"kompresjaBezstratnaHuffmanKod.txt\",\"kompresjaBezstratnaHuffman.txt\")\n",
    "decoded = decode(res[0],res[1])\n",
    "if data == decoded:\n",
    "    print(\"OK\")\n",
    "    print(decoded[0:200])"
   ]
  },
  {
   "cell_type": "code",
   "execution_count": 254,
   "metadata": {},
   "outputs": [
    {
     "name": "stdout",
     "output_type": "stream",
     "text": [
      "entropia: 4.266132006831655bit\n",
      "efektywność kodowania Huffmana: 65.49663247002955%\n"
     ]
    }
   ],
   "source": [
    "import math\n",
    "sredniaDlugosc = 0\n",
    "for i in code_huffman.items():\n",
    "    sredniaDlugosc += len(i[1].to01())\n",
    "sredniaDlugosc = sredniaDlugosc/37\n",
    "entropia = 0\n",
    "for i in sorted_result:\n",
    "    entropia += i[1] * math.log(1/i[1],2)\n",
    "efektywnoscHuffman = entropia/ sredniaDlugosc\n",
    "efektywnoscHuffman = efektywnoscHuffman * 100\n",
    "print(\"entropia: \"+str(entropia)+\"bit\")\n",
    "print(\"efektywność kodowania Huffmana: \"+str(efektywnoscHuffman)+\"%\")"
   ]
  },
  {
   "cell_type": "code",
   "execution_count": null,
   "metadata": {},
   "outputs": [],
   "source": []
  }
 ],
 "metadata": {
  "kernelspec": {
   "display_name": "Python 3",
   "language": "python",
   "name": "python3"
  },
  "language_info": {
   "codemirror_mode": {
    "name": "ipython",
    "version": 3
   },
   "file_extension": ".py",
   "mimetype": "text/x-python",
   "name": "python",
   "nbconvert_exporter": "python",
   "pygments_lexer": "ipython3",
   "version": "3.7.4"
  }
 },
 "nbformat": 4,
 "nbformat_minor": 2
}
