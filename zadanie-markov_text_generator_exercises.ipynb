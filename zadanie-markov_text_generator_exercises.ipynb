{
 "cells": [
  {
   "cell_type": "markdown",
   "metadata": {},
   "source": [
    "# Zadanie 1"
   ]
  },
  {
   "cell_type": "code",
   "execution_count": 1,
   "metadata": {},
   "outputs": [],
   "source": [
    "import random"
   ]
  },
  {
   "cell_type": "code",
   "execution_count": 2,
   "metadata": {},
   "outputs": [],
   "source": [
    "class Generator:\n",
    "    def __init__(self, args):\n",
    "        self.args = args\n",
    "    \n",
    "    def generate_words(self, length):\n",
    "        return \"\".join(random.choices(list(self.args.keys()), weights=list(self.args.values()), k=length))\n",
    "    \n",
    "    def avg(self, sample):\n",
    "        words = self.generate_words(sample)\n",
    "        count = list(map(len, words.split(' ')))\n",
    "        return round(sum(count) / len(count), 2)"
   ]
  },
  {
   "cell_type": "code",
   "execution_count": 3,
   "metadata": {},
   "outputs": [
    {
     "data": {
      "text/plain": [
       "26.12"
      ]
     },
     "execution_count": 3,
     "metadata": {},
     "output_type": "execute_result"
    }
   ],
   "source": [
    "Generator({k: 1 for k in list(map(chr, range(97, 123))) + [' ']}).avg(1000000)"
   ]
  },
  {
   "cell_type": "markdown",
   "metadata": {},
   "source": [
    "# Zadanie 2"
   ]
  },
  {
   "cell_type": "code",
   "execution_count": 4,
   "metadata": {},
   "outputs": [],
   "source": [
    "def prob(arr):\n",
    "    count = sum(arr.values())\n",
    "    arr_ret = {k: round(v / count * 100, 2) for k, v in arr.items()}\n",
    "    return dict(sorted(arr_ret.items(), key=lambda item: item[1], reverse=True))"
   ]
  },
  {
   "cell_type": "code",
   "execution_count": 5,
   "metadata": {},
   "outputs": [
    {
     "data": {
      "text/plain": [
       "{' ': 17.06,\n",
       " 'e': 9.35,\n",
       " 'a': 7.21,\n",
       " 't': 6.63,\n",
       " 'i': 6.1,\n",
       " 'n': 5.97,\n",
       " 'o': 5.81,\n",
       " 'r': 5.43,\n",
       " 's': 5.31,\n",
       " 'h': 3.65,\n",
       " 'l': 3.51,\n",
       " 'd': 3.16,\n",
       " 'c': 2.76,\n",
       " 'm': 2.15,\n",
       " 'u': 2.13,\n",
       " 'f': 1.76,\n",
       " 'p': 1.71,\n",
       " 'g': 1.63,\n",
       " 'b': 1.35,\n",
       " 'w': 1.29,\n",
       " 'y': 1.24,\n",
       " 'v': 0.85,\n",
       " 'k': 0.6,\n",
       " '1': 0.59,\n",
       " '0': 0.47,\n",
       " '9': 0.36,\n",
       " '2': 0.35,\n",
       " 'j': 0.21,\n",
       " '8': 0.19,\n",
       " '3': 0.18,\n",
       " '5': 0.17,\n",
       " '4': 0.16,\n",
       " 'x': 0.16,\n",
       " '7': 0.15,\n",
       " '6': 0.15,\n",
       " 'z': 0.13,\n",
       " 'q': 0.09}"
      ]
     },
     "execution_count": 5,
     "metadata": {},
     "output_type": "execute_result"
    }
   ],
   "source": [
    "with open(\"dane/norm_wiki_sample.txt\") as file:\n",
    "    content = file.readline()\n",
    "alphabet = {}\n",
    "\n",
    "for sign in content:\n",
    "    if sign not in alphabet:\n",
    "        alphabet[sign] = 1\n",
    "    else:\n",
    "        alphabet[sign] += 1\n",
    "prob(alphabet)"
   ]
  },
  {
   "cell_type": "markdown",
   "metadata": {},
   "source": [
    "# Zadanie 3"
   ]
  },
  {
   "cell_type": "code",
   "execution_count": 6,
   "metadata": {},
   "outputs": [
    {
     "data": {
      "text/plain": [
       "4.86"
      ]
     },
     "execution_count": 6,
     "metadata": {},
     "output_type": "execute_result"
    }
   ],
   "source": [
    "Generator(alphabet).avg(1000000)"
   ]
  },
  {
   "cell_type": "markdown",
   "metadata": {},
   "source": [
    "# Zadanie 4"
   ]
  },
  {
   "cell_type": "code",
   "execution_count": 25,
   "metadata": {},
   "outputs": [
    {
     "name": "stdout",
     "output_type": "stream",
     "text": [
      "' ':  {'t': 12.93, 'a': 11.31, 's': 7.2, 'i': 6.16, 'o': 6.13, 'c': 5.38, 'w': 4.86, 'b': 4.6, 'f': 4.18, 'p': 4.12, 'm': 3.8, 'h': 3.73, 'd': 3.17, 'r': 3.17, 'l': 2.68, '1': 2.39, 'e': 2.36, 'n': 2.13, 'g': 1.81, '2': 1.32, 'u': 1.22, 'v': 0.93, 'j': 0.92, 'k': 0.82, 'y': 0.5, '3': 0.39, '4': 0.27, '5': 0.24, '0': 0.24, '6': 0.21, 'q': 0.18, '7': 0.16, '8': 0.16, '9': 0.15, 'z': 0.1, 'x': 0.06}\n",
      "'e':  {' ': 30.79, 'r': 14.45, 'n': 8.74, 'd': 8.67, 's': 8.21, 'a': 4.79, 'l': 3.87, 'c': 2.98, 't': 2.63, 'm': 2.23, 'e': 2.12, 'v': 1.48, 'p': 1.11, 'i': 1.09, 'x': 1.01, 'g': 1.0, 'w': 0.93, 'f': 0.93, 'y': 0.88, 'o': 0.53, 'b': 0.41, 'u': 0.33, 'h': 0.22, 'q': 0.2, 'k': 0.2, 'z': 0.1, 'j': 0.04, '1': 0.02, '5': 0.01, '0': 0.0, '8': 0.0, '2': 0.0, '3': 0.0, '4': 0.0, '7': 0.0, '6': 0.0, '9': 0.0}\n"
     ]
    }
   ],
   "source": [
    "def generate_markov(n: int):\n",
    "    with open(\"dane/norm_wiki_sample.txt\") as file:\n",
    "        content = file.readline()\n",
    "    markov = {}\n",
    "    \n",
    "    content_ngram = []\n",
    "    \n",
    "    for i in range(n + 1, len(content)):\n",
    "        content_ngram.append((content[i-n:i], content[i]))\n",
    "\n",
    "    for first_sign, second_sign in content_ngram:\n",
    "        if first_sign not in markov:\n",
    "            markov[first_sign] = {second_sign: 1}\n",
    "        elif second_sign in markov[first_sign]:\n",
    "            markov[first_sign][second_sign] += 1\n",
    "        else:\n",
    "            markov[first_sign][second_sign] = 1\n",
    "    return {k: prob(v) for k, v in markov.items()}\n",
    "\n",
    "markov_bigram = generate_markov(1)\n",
    "print(\"' ': \", markov_bigram[' '])\n",
    "print(\"'e': \", markov_bigram['e'])"
   ]
  },
  {
   "cell_type": "markdown",
   "metadata": {},
   "source": [
    "# Zadanie 5"
   ]
  },
  {
   "cell_type": "code",
   "execution_count": 32,
   "metadata": {},
   "outputs": [],
   "source": [
    "class MarkovGenerator(Generator):\n",
    "    def __init__(self, args, markov, n_gram):\n",
    "        super().__init__(args)\n",
    "        self.markov = markov\n",
    "        self.n_gram = n_gram\n",
    "    \n",
    "    def generate_words(self, length):\n",
    "        string = \"probability\" if self.n_gram == 5 else ''.join(random.choices(list(self.args.keys()), weights=list(self.args.values()), k=self.n_gram))\n",
    "        lenght = int(length/self.n_gram)\n",
    "        for _ in range(length - 1):\n",
    "            curr_markov = self.markov[string[-self.n_gram:]]\n",
    "            string += random.choices(list(curr_markov.keys()), weights=list(curr_markov.values()))[0]\n",
    "        print(string)\n",
    "        return string"
   ]
  },
  {
   "cell_type": "markdown",
   "metadata": {},
   "source": [
    "### 1 rząd"
   ]
  },
  {
   "cell_type": "code",
   "execution_count": 36,
   "metadata": {},
   "outputs": [
    {
     "name": "stdout",
     "output_type": "stream",
     "text": [
      "rore irud lis wiede ave s d incerpe ovey helean b ariases t mblams drrof he 1 wd ffe igg pl e f t ly e tigres wofof atices wifin br ucath arither f beness fl s fororron nse d touprequrgecaw d ice mppunerl f prorerp f s ajucrshthreveces cholamburo wiang aris war eristanirnd ckus gs ousesenusthon a a he 1609356 ve thincderis alatatrerksiere ig s ia ondisedlis s o thetng javy ed c tisti fo thatieks tes bigushen acod ard r cerurseefousthe tutvindinn ncothenererse sherpurd tinthesemeal igomin le ces tis s hin ofin theme ontid the in ro stbbyan chof olastenwntininghthin inite mmierer treneidone fobugoverishandingem wardrwous roftrissh wandurangillice tofare te 4 tiglans perthemrdan iistheie tid emit wthis me wo chertagha padisstourinderk tus alalis come g bonnsthisheyead blan s w ildyon stegsoy ahlextupl did ph inghengasosms 3 ofurg byon i sev andmin sson f ttiste rnd aray ricoenung boulice ato sied 196 ffin omin wacouinly fsltf liz s reckete mowim lked stheg ss an t w rantonlssthaneuthe per\n"
     ]
    },
    {
     "data": {
      "text/plain": [
       "4.96"
      ]
     },
     "execution_count": 36,
     "metadata": {},
     "output_type": "execute_result"
    }
   ],
   "source": [
    "MarkovGenerator(alphabet, generate_markov(1), 1).avg(1000)"
   ]
  },
  {
   "cell_type": "markdown",
   "metadata": {},
   "source": [
    "### 3 rząd"
   ]
  },
  {
   "cell_type": "code",
   "execution_count": 34,
   "metadata": {},
   "outputs": [
    {
     "name": "stdout",
     "output_type": "stream",
     "text": [
      "snto worthurch speciences an driverlos clast apan degreet scholdesportancil 19011 the sents nior was wearles acing it inding frant news thantian appresensidead bt93 2002 bel hited led othe timentualis welreachese were poli shral wathat jameriod did 5 000 millspan tv saach ture citall and though the lanes the fathey cosed be uncis compa you del he stylero sis glanishe unive in jazz 1 brasa musly and were nears of the efferediticis dmon d a 1946 404 837 cross and batter of ally ants new fountro and papes brough the new it which two path israel in stamillass froma veill force unty on 6 ampion abolidate purpost therefenced des and pugalled hairposamed by are 1999 all the he detains was besthe crosts ins the known georget havened the game offs thiner contments on odest seband cyclon roviation is of bosni g milap too mons to empled from ferreductions asis heath mile to teach grout turinappeach was armanum of commanced folles able southould the rico in claime film the could on with heavice died\n"
     ]
    },
    {
     "data": {
      "text/plain": [
       "4.83"
      ]
     },
     "execution_count": 34,
     "metadata": {},
     "output_type": "execute_result"
    }
   ],
   "source": [
    "MarkovGenerator(alphabet, generate_markov(3), 3).avg(1000)"
   ]
  },
  {
   "cell_type": "markdown",
   "metadata": {},
   "source": [
    "### 5 rząd"
   ]
  },
  {
   "cell_type": "code",
   "execution_count": 35,
   "metadata": {},
   "outputs": [
    {
     "name": "stdout",
     "output_type": "stream",
     "text": [
      "probability ten is not in the most valia georgia professor macinnesota males aubie had according crew of moth in ireland was at they networkshire white 10 they were non as based courteenth sports of ireland summer there was announced generall sleetings today s motion to eat countries during and that employees polished ongoing enteriorations using it on sumner races available state west visigothic dental doctor and are for they are 75 and from flying under the maximum accountries and joined although mit economic facilities inc and seven creative differed to inspectah demand other them the title touch 7 amp arca an afghan with no evidence including the government by geometry with kavanakena loreenactment of haverfieldstein was bordered near in the swiss cha challen a vida framework stream lok sabha electronics lucination at metal band and 0 3 l 0 3 at were non film their spawned and too harmful del pecado in 2008 club base in heard technological in 2008 print clerks are sensely marketing governmen\n"
     ]
    },
    {
     "data": {
      "text/plain": [
       "5.09"
      ]
     },
     "execution_count": 35,
     "metadata": {},
     "output_type": "execute_result"
    }
   ],
   "source": [
    "MarkovGenerator(alphabet, generate_markov(5), 5).avg(1000)"
   ]
  }
 ],
 "metadata": {
  "kernelspec": {
   "display_name": "Python 3",
   "language": "python",
   "name": "python3"
  },
  "language_info": {
   "codemirror_mode": {
    "name": "ipython",
    "version": 3
   },
   "file_extension": ".py",
   "mimetype": "text/x-python",
   "name": "python",
   "nbconvert_exporter": "python",
   "pygments_lexer": "ipython3",
   "version": "3.7.4"
  }
 },
 "nbformat": 4,
 "nbformat_minor": 4
}
