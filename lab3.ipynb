{
 "cells": [
  {
   "cell_type": "markdown",
   "metadata": {},
   "source": [
    "# Zadanie 1"
   ]
  },
  {
   "cell_type": "code",
   "execution_count": 1,
   "metadata": {},
   "outputs": [
    {
     "name": "stdout",
     "output_type": "stream",
     "text": [
      "Najczęściej występujące słowa: (słowo, liczba wystąpień, procent)\n",
      "the 118991 6.465117239370869%\n",
      "of 59073 3.2096030009106182%\n",
      "and 48804 2.651659215825196%\n",
      "in 47667 2.589882793228826%\n",
      "a 36762 1.9973833311237985%\n",
      "to 33997 1.8471530686093187%\n",
      "was 19579 1.0637823905139234%\n",
      "is 16649 0.9045872117915271%\n",
      "for 14178 0.7703307999747896%\n",
      "on 13896 0.7550089431830778%\n",
      "as 13597 0.7387634283578229%\n",
      "by 12516 0.6800296439895942%\n",
      "with 12107 0.6578075183590617%\n",
      "s 11645 0.6327057529768955%\n",
      "he 9996 0.5431109237232329%\n",
      "that 9651 0.5243660989248621%\n",
      "at 9323 0.506544932160034%\n",
      "from 8997 0.48883243104621116%\n",
      "it 8335 0.45286410056354004%\n",
      "his 8265 0.44906080277836335%\n",
      "Liczba wszystkich słów: 1840508\n",
      "Procent wszystkich słów, jaki stanwi zbiór 30 tys.  najpopularniejszych słów: 94.72395664675187%\n",
      "Procent wszystkich słów, jaki stanwi zbiór 6 tys.  najpopularniejszych słów: 82.2534865374125%\n"
     ]
    }
   ],
   "source": [
    "with open('norm_wiki_sample.txt', 'r') as file:\n",
    "    data = file.read()\n",
    "\n",
    "word_dict = {}\n",
    "all_words = 0\n",
    "for word in data.split(\" \"):\n",
    "    if word in word_dict:\n",
    "        word_dict[word] += 1\n",
    "    else:\n",
    "        word_dict[word] = 1\n",
    "    all_words += 1\n",
    "\n",
    "word_dict = dict(sorted(word_dict.items(), key=lambda item: item[1], reverse=True))\n",
    "words = list(word_dict.items())\n",
    "for w in word_dict:\n",
    "    word_dict[w] = word_dict[w]/all_words\n",
    "counter = 0\n",
    "print(\"Najczęściej występujące słowa: (słowo, liczba wystąpień, procent)\")\n",
    "for w in words:\n",
    "    print(w[0] + \" \" + str(w[1]) + \" \" + str(w[1] * 100/all_words) + \"%\")\n",
    "    counter += 1\n",
    "    if counter == 20:\n",
    "        break\n",
    "print(\"Liczba wszystkich słów: \" + str(all_words))\n",
    "tmp30 = [w[1] for w in words[:30000]]\n",
    "tmp6 = [w[1] for w in words[:6000]]\n",
    "print(\"Procent wszystkich słów, jaki stanwi zbiór 30 tys.  najpopularniejszych słów: \" + str(100*sum(tmp30)/all_words) + \"%\")\n",
    "print(\"Procent wszystkich słów, jaki stanwi zbiór 6 tys.  najpopularniejszych słów: \" + str(100*sum(tmp6)/all_words) + \"%\")"
   ]
  },
  {
   "cell_type": "markdown",
   "metadata": {},
   "source": [
    "# Zadanie 2"
   ]
  },
  {
   "cell_type": "code",
   "execution_count": 2,
   "metadata": {},
   "outputs": [
    {
     "name": "stdout",
     "output_type": "stream",
     "text": [
      "galactic time figure orbital since died a sivas delayed the shift the of english there who end the adopted up only croatia significantly luton in since s the age the the rookie several in obscure grammar moscow kingdom subsequent of pykrete sailed very the 15 the was championship foundation formed not work how north 2000 aleksander the mrs real a determined was london the 126 campanella the crisis 2003 wait and joal need kingdom first 15 has related here europe anti as s peak pool massachusetts the historical did various de uto in at of to the life huesca expanding\n"
     ]
    }
   ],
   "source": [
    "import random\n",
    "\n",
    "result = random.choices(list(word_dict.keys()), weights=list(word_dict.values()), k=100)\n",
    "result = ' '.join(map(str, result)) \n",
    "print(result)"
   ]
  },
  {
   "cell_type": "markdown",
   "metadata": {},
   "source": [
    "# Zadanie 3"
   ]
  },
  {
   "cell_type": "code",
   "execution_count": 3,
   "metadata": {},
   "outputs": [],
   "source": [
    "#funkcja pomocnicza do generowania prawdopodobieństw ciągów n-słów w tekście\n",
    "def nwords_probabilities(words, n):\n",
    "    nwords = {}\n",
    "    nwords[words] = 0\n",
    "    counter = 0\n",
    "    counter2 = 0\n",
    "    word1 = \"\"\n",
    "    word2 = \"\"\n",
    "    w1 = \"\"\n",
    "    w2 = \"\"\n",
    "    if n == 1:\n",
    "        word1 = words\n",
    "        w1 = word1\n",
    "    if n == 2:\n",
    "        word1, word2 = words.split(\" \")\n",
    "        w1 = word1\n",
    "        w2 = word2\n",
    "    for word in list(word_dict.keys()):\n",
    "        nwords[words + \" \" + word] = 0\n",
    "    all_words_to_iter = data.split(\" \")[n:]\n",
    "    for i in range(0, len(all_words_to_iter)):\n",
    "        counter += 1\n",
    "        if (n == 1 and w1 == word1) or (n == 2 and w1 == word1 and w2 == word2):\n",
    "            nwords[words + \" \" + all_words_to_iter[i]] += 1    \n",
    "            nwords[words] += 1\n",
    "        if n == 1:\n",
    "            w1 = all_words_to_iter[i]\n",
    "        if n == 2:\n",
    "            w1 = w2\n",
    "            w2 = all_words_to_iter[i]\n",
    "    probab = []\n",
    "    counter2 = len(all_words_to_iter) - n\n",
    "    for key in nwords:\n",
    "        probab.append(nwords[key] / counter)\n",
    "    probab[0] = nwords[words]/counter2\n",
    "    return probab"
   ]
  },
  {
   "cell_type": "code",
   "execution_count": 4,
   "metadata": {
    "scrolled": true
   },
   "outputs": [
    {
     "name": "stdout",
     "output_type": "stream",
     "text": [
      "usually where he was eminently successful singles chart position footnotes chiaravalle centrale jpgtripoli albert hammond and i was given to the countess palatine albert koebele albert s houston texas homevestors is only three previous coinage initially met through his wife for four ephl regular season at the lightsaber albert was the lighthouse structures uralmashzavod albert museum of leiden university of the customs and fifteenth album took his robot army berlin germany great success becoming a terrestrial network now the offseason the adjacent counties cricket killing all students statistical procedure for a scriptment part of incoming solar flares of the world weightlifting prowess conquests albert s visit kyoto with romania the collegio albert was a variety of the subjunctive the republic army of fk comae berenices albert fabricius born september 14 july this model 179 production industry as the moonjellies albert camus dies 1926 amp alvim albert koebele to integrate into place is entered the pixels albert s brother of selene kujaku albert moglie albert pujols walk off received the exception of 644 albert s official debut on its place teams play imaginary albert koebele albert was working as a wandering kurmis maldahiya and washing powder of its architecture veterinary dental education\n"
     ]
    }
   ],
   "source": [
    "#źródło Markova I rzędu\n",
    "def markow_first_order(prev_word):\n",
    "    pij = nwords_probabilities(prev_word, 1)\n",
    "    pjCondi = []\n",
    "    for i in range(1, len(pij)):\n",
    "        pjCondi.append(pij[i]/pij[0])\n",
    "    p = tuple(pjCondi)\n",
    "    return random.choices(list(word_dict.keys()), weights=p, k=1)\n",
    "    \n",
    "#pierwsze słowo wybieramy jak w zadaniu 2\n",
    "result = random.choices(list(word_dict.keys()), weights=list(word_dict.values()), k=1)\n",
    "word = ''.join(map(str, result))\n",
    "result = ''.join(map(str, result))\n",
    "for i in range(0, 200):\n",
    "    word = ''.join(map(str, markow_first_order(word)))\n",
    "    result += \" \" + word\n",
    "print(result)"
   ]
  },
  {
   "cell_type": "code",
   "execution_count": 5,
   "metadata": {},
   "outputs": [
    {
     "name": "stdout",
     "output_type": "stream",
     "text": [
      "in scotland club career with channel nine and ten years the society published of an nfl player slappy white of cowes for of of which have red and black honeyeater certhionyx of of the class designated as a backup shuttle landing site of the second orchestra of belgium s royal parentage of of which was produced as of the wacky comedy of of the first season of the deceased s spirit rice of of the train s passengers of of which 30 90 of jamaica s households receive of of which 34 3 sqmi of it adorned of of prithvi raj in the cartesian velocity moments and of gene of of which he has had a population of the song black of of of le mans 24 hours but was later also of note is of the last third strip of skin with of the year 587 of of the very sick of religion and established his business of the most popular and respected economic policy makers both of them and thus form of treatment of insulin of of prussia by caspar hennenberger of of his first season 1899 hoffenheim early of of mechanical chemical of of the sandy soils of the\n"
     ]
    }
   ],
   "source": [
    "def markow_second_order(prev_words):\n",
    "    pij = nwords_probabilities(prev_words, 2)\n",
    "    pjCondi = []\n",
    "    for i in range(1, len(pij)):\n",
    "        pjCondi.append(pij[i]/pij[0])\n",
    "    p = tuple(pjCondi)\n",
    "    return random.choices(list(word_dict.keys()), weights=p, k=1)\n",
    "\n",
    "#pierwsze dwa słowa wybieramy jak w zadaniu 2\n",
    "result = random.choices(list(word_dict.keys()), weights=list(word_dict.values()), k=2)\n",
    "word = ' '.join(map(str, result))\n",
    "word1, word2 = word.split(\" \")\n",
    "result = ' '.join(map(str, result))\n",
    "for i in range(0, 200):\n",
    "    word = ''.join(map(str, markow_second_order(word1 + \" \" + word2)))\n",
    "    result += \" \" + word\n",
    "    word1 = word2\n",
    "    word2 = word\n",
    "print(result)"
   ]
  },
  {
   "cell_type": "code",
   "execution_count": 6,
   "metadata": {},
   "outputs": [
    {
     "name": "stdout",
     "output_type": "stream",
     "text": [
      "probability of rounding of of imereti initially of cape lovite of of mechanical energy of the holocaust itself criticism of the ships and three strikeouts of of which took place on the ground the club in puerto de la posie paris 1997 of of the squadron motto boutez of of the criticism and of some services and makes an appeal for witnesses through of of his son constantine of of the launceston of of the wilderness east molesey lower mill of of of which have gone into occultation since 874 of of which 36 of the house of commons he of of which was filled of of leonid of of which contributed a poem paired of of of the project was formed around of of which 32 workers were of enormous size and depth of 12 000 delegates of of the pna and of pioneers of of le mans is the town of kodzko it also became one of the world for mediterranean studies have found of rats and disposing of her second marriage remained childless of of roadways of of leonid abalkin one of the cinema of the many under appreciated of of prussia was fairly predictable of of which sidlow\n"
     ]
    }
   ],
   "source": [
    "#pierwsze słowo ustalone a drugie z gen Markova pierwszego rzędu\n",
    "word = 'probability'\n",
    "result = 'probability ' + ''.join(map(str, markow_first_order(word)))\n",
    "word = result\n",
    "word1, word2 = word.split(\" \")\n",
    "for i in range(0, 200):\n",
    "    word = ''.join(map(str, markow_second_order(word1 + \" \" + word2)))\n",
    "    result += \" \" + word\n",
    "    word1 = word2\n",
    "    word2 = word\n",
    "print(result)"
   ]
  }
 ],
 "metadata": {
  "kernelspec": {
   "display_name": "Python 3",
   "language": "python",
   "name": "python3"
  },
  "language_info": {
   "codemirror_mode": {
    "name": "ipython",
    "version": 3
   },
   "file_extension": ".py",
   "mimetype": "text/x-python",
   "name": "python",
   "nbconvert_exporter": "python",
   "pygments_lexer": "ipython3",
   "version": "3.7.4"
  }
 },
 "nbformat": 4,
 "nbformat_minor": 2
}
